{
 "cells": [
  {
   "cell_type": "code",
   "execution_count": 1,
   "metadata": {},
   "outputs": [],
   "source": [
    "import sys\n",
    "sys.path.insert(0, '../')\n",
    "\n",
    "\n",
    "import pandas as pd\n",
    "import numpy as np\n",
    "import matplotlib.pyplot as plt\n",
    "from IPython.display import HTML\n",
    "import matplotlib.animation as animation\n",
    "\n",
    "import statsmodels.api as sm\n",
    "\n",
    "import os\n",
    "\n",
    "\n",
    "from engine.metric import laplace_log_likelihood\n",
    "from dataset.build import read_df\n",
    "from config import cfg\n",
    "import pydicom as dicom"
   ]
  },
  {
   "cell_type": "code",
   "execution_count": 2,
   "metadata": {},
   "outputs": [
    {
     "data": {
      "text/plain": [
       "(      index                    Patient  Weeks   FVC    Percent  Age   Sex  \\\n",
       " 0         0  ID00007637202177411956430     -4  2315  58.253649   79  Male   \n",
       " 1         1  ID00007637202177411956430      5  2214  55.712129   79  Male   \n",
       " 2         2  ID00007637202177411956430      7  2061  51.862104   79  Male   \n",
       " 3         3  ID00007637202177411956430      9  2144  53.950679   79  Male   \n",
       " 4         4  ID00007637202177411956430     11  2069  52.063412   79  Male   \n",
       " ...     ...                        ...    ...   ...        ...  ...   ...   \n",
       " 1530   1544  ID00426637202313170790466     13  2712  66.594637   73  Male   \n",
       " 1531   1545  ID00426637202313170790466     19  2978  73.126412   73  Male   \n",
       " 1532   1546  ID00426637202313170790466     31  2908  71.407524   73  Male   \n",
       " 1533   1547  ID00426637202313170790466     43  2975  73.052745   73  Male   \n",
       " 1534   1548  ID00426637202313170790466     59  2774  68.117081   73  Male   \n",
       " \n",
       "      SmokingStatus Source  Confidence  ...  FVC_scld  Percent_scld  Age_scld  \\\n",
       " 0        Ex-smoker  train         NaN  ...  0.267050      0.236393  0.769231   \n",
       " 1        Ex-smoker  train         NaN  ...  0.248923      0.215941  0.769231   \n",
       " 2        Ex-smoker  train         NaN  ...  0.221464      0.184960  0.769231   \n",
       " 3        Ex-smoker  train         NaN  ...  0.236360      0.201767  0.769231   \n",
       " 4        Ex-smoker  train         NaN  ...  0.222900      0.186580  0.769231   \n",
       " ...            ...    ...         ...  ...       ...           ...       ...   \n",
       " 1530  Never smoked  train         NaN  ...  0.338299      0.303514  0.615385   \n",
       " 1531  Never smoked  train         NaN  ...  0.386037      0.356076  0.615385   \n",
       " 1532  Never smoked  train         NaN  ...  0.373475      0.342244  0.615385   \n",
       " 1533  Never smoked  train         NaN  ...  0.385499      0.355484  0.615385   \n",
       " 1534  Never smoked  train         NaN  ...  0.349426      0.315766  0.615385   \n",
       " \n",
       "       baselined_week_scld  base_FVC_scld  Male  Female  Ex-smoker  \\\n",
       " 0                0.000000       0.241456     1       0          1   \n",
       " 1                0.062069       0.241456     1       0          1   \n",
       " 2                0.075862       0.241456     1       0          1   \n",
       " 3                0.089655       0.241456     1       0          1   \n",
       " 4                0.103448       0.241456     1       0          1   \n",
       " ...                   ...            ...   ...     ...        ...   \n",
       " 1530             0.172414       0.354755     1       0          0   \n",
       " 1531             0.213793       0.354755     1       0          0   \n",
       " 1532             0.296552       0.354755     1       0          0   \n",
       " 1533             0.379310       0.354755     1       0          0   \n",
       " 1534             0.489655       0.354755     1       0          0   \n",
       " \n",
       "       Never smoked  Currently smokes  \n",
       " 0                0                 0  \n",
       " 1                0                 0  \n",
       " 2                0                 0  \n",
       " 3                0                 0  \n",
       " 4                0                 0  \n",
       " ...            ...               ...  \n",
       " 1530             1                 0  \n",
       " 1531             1                 0  \n",
       " 1532             1                 0  \n",
       " 1533             1                 0  \n",
       " 1534             1                 0  \n",
       " \n",
       " [1535 rows x 24 columns],\n",
       "       index                    Patient  Weeks   FVC    Percent  Age   Sex  \\\n",
       " 1535      0  ID00419637202311204720264    -12  3020  70.186855   73  Male   \n",
       " 1536      1  ID00419637202311204720264    -11  3020  70.186855   73  Male   \n",
       " 1537      2  ID00419637202311204720264    -10  3020  70.186855   73  Male   \n",
       " 1538      3  ID00419637202311204720264     -9  3020  70.186855   73  Male   \n",
       " 1539      4  ID00419637202311204720264     -8  3020  70.186855   73  Male   \n",
       " ...     ...                        ...    ...   ...        ...  ...   ...   \n",
       " 2260    725  ID00426637202313170790466    129  2925  71.824968   73  Male   \n",
       " 2261    726  ID00426637202313170790466    130  2925  71.824968   73  Male   \n",
       " 2262    727  ID00426637202313170790466    131  2925  71.824968   73  Male   \n",
       " 2263    728  ID00426637202313170790466    132  2925  71.824968   73  Male   \n",
       " 2264    729  ID00426637202313170790466    133  2925  71.824968   73  Male   \n",
       " \n",
       "      SmokingStatus Source  Confidence  ...  FVC_scld  Percent_scld  Age_scld  \\\n",
       " 1535     Ex-smoker   test       100.0  ...  0.393575      0.332421  0.615385   \n",
       " 1536     Ex-smoker   test       100.0  ...  0.393575      0.332421  0.615385   \n",
       " 1537     Ex-smoker   test       100.0  ...  0.393575      0.332421  0.615385   \n",
       " 1538     Ex-smoker   test       100.0  ...  0.393575      0.332421  0.615385   \n",
       " 1539     Ex-smoker   test       100.0  ...  0.393575      0.332421  0.615385   \n",
       " ...            ...    ...         ...  ...       ...           ...       ...   \n",
       " 2260  Never smoked   test       100.0  ...  0.376525      0.345604  0.615385   \n",
       " 2261  Never smoked   test       100.0  ...  0.376525      0.345604  0.615385   \n",
       " 2262  Never smoked   test       100.0  ...  0.376525      0.345604  0.615385   \n",
       " 2263  Never smoked   test       100.0  ...  0.376525      0.345604  0.615385   \n",
       " 2264  Never smoked   test       100.0  ...  0.376525      0.345604  0.615385   \n",
       " \n",
       "       baselined_week_scld  base_FVC_scld  Male  Female  Ex-smoker  \\\n",
       " 1535             0.000000       0.372400     1       0          1   \n",
       " 1536             0.006897       0.372400     1       0          1   \n",
       " 1537             0.013793       0.372400     1       0          1   \n",
       " 1538             0.020690       0.372400     1       0          1   \n",
       " 1539             0.027586       0.372400     1       0          1   \n",
       " ...                   ...            ...   ...     ...        ...   \n",
       " 2260             0.972414       0.354755     1       0          0   \n",
       " 2261             0.979310       0.354755     1       0          0   \n",
       " 2262             0.986207       0.354755     1       0          0   \n",
       " 2263             0.993103       0.354755     1       0          0   \n",
       " 2264             1.000000       0.354755     1       0          0   \n",
       " \n",
       "       Never smoked  Currently smokes  \n",
       " 1535             0                 0  \n",
       " 1536             0                 0  \n",
       " 1537             0                 0  \n",
       " 1538             0                 0  \n",
       " 1539             0                 0  \n",
       " ...            ...               ...  \n",
       " 2260             1                 0  \n",
       " 2261             1                 0  \n",
       " 2262             1                 0  \n",
       " 2263             1                 0  \n",
       " 2264             1                 0  \n",
       " \n",
       " [730 rows x 24 columns])"
      ]
     },
     "execution_count": 2,
     "metadata": {},
     "output_type": "execute_result"
    }
   ],
   "source": [
    "read_df(cfg)"
   ]
  },
  {
   "cell_type": "code",
   "execution_count": null,
   "metadata": {},
   "outputs": [],
   "source": [
    "train = pd.read_csv('../data/train.csv')\n",
    "test = pd.read_csv('../data/test.csv')"
   ]
  },
  {
   "cell_type": "code",
   "execution_count": null,
   "metadata": {},
   "outputs": [],
   "source": [
    "train.shape"
   ]
  },
  {
   "cell_type": "code",
   "execution_count": null,
   "metadata": {},
   "outputs": [],
   "source": [
    "test.shape"
   ]
  },
  {
   "cell_type": "code",
   "execution_count": null,
   "metadata": {},
   "outputs": [],
   "source": [
    "train.head()"
   ]
  },
  {
   "cell_type": "code",
   "execution_count": null,
   "metadata": {},
   "outputs": [],
   "source": [
    "train.Patient.nunique()"
   ]
  },
  {
   "cell_type": "code",
   "execution_count": null,
   "metadata": {},
   "outputs": [],
   "source": [
    "idx = np.random.choice(train.Patient.unique())"
   ]
  },
  {
   "cell_type": "code",
   "execution_count": null,
   "metadata": {},
   "outputs": [],
   "source": [
    "train[train['Patient']==idx]"
   ]
  },
  {
   "cell_type": "code",
   "execution_count": null,
   "metadata": {},
   "outputs": [],
   "source": [
    "plt.figure()\n",
    "plt.plot(train.loc[train['Patient']==idx ,'FVC'])"
   ]
  },
  {
   "cell_type": "code",
   "execution_count": null,
   "metadata": {},
   "outputs": [],
   "source": [
    "def load_scan(path):\n",
    "    slices = [dicom.read_file(path + '/' + s) for s in os.listdir(path)]\n",
    "    slices.sort(key = lambda x: float(x.ImagePositionPatient[2]))\n",
    "    try:\n",
    "        slice_thickness = np.abs(slices[0].ImagePositionPatient[2] - slices[1].ImagePositionPatient[2])\n",
    "    except:\n",
    "        slice_thickness = np.abs(slices[0].SliceLocation - slices[1].SliceLocation)\n",
    "        \n",
    "    for s in slices:\n",
    "        s.SliceThickness = slice_thickness\n",
    "        \n",
    "    return slices\n",
    "\n",
    "def get_pixels_hu(slices):\n",
    "    image = np.stack([s.pixel_array for s in slices])\n",
    "    # Convert to int16 (from sometimes int16), \n",
    "    # should be possible as values should always be low enough (<32k)\n",
    "    image = image.astype(np.int16)\n",
    "\n",
    "    # Set outside-of-scan pixels to 0\n",
    "    # The intercept is usually -1024, so air is approximately 0\n",
    "    image[image == -2000] = 0\n",
    "    \n",
    "    # Convert to Hounsfield units (HU)\n",
    "    for slice_number in range(len(slices)):\n",
    "        \n",
    "        intercept = slices[slice_number].RescaleIntercept\n",
    "        slope = slices[slice_number].RescaleSlope\n",
    "        \n",
    "        if slope != 1:\n",
    "            image[slice_number] = slope * image[slice_number].astype(np.float64)\n",
    "            image[slice_number] = image[slice_number].astype(np.int16)\n",
    "            \n",
    "        image[slice_number] += np.int16(intercept)\n",
    "    \n",
    "    return np.array(image, dtype=np.int16)"
   ]
  },
  {
   "cell_type": "code",
   "execution_count": null,
   "metadata": {},
   "outputs": [],
   "source": [
    "def set_lungwin(img, hu=[-1200., 600.]):\n",
    "    lungwin = np.array(hu)\n",
    "    newimg = (img-lungwin[0]) / (lungwin[1]-lungwin[0])\n",
    "    newimg[newimg < 0] = 0\n",
    "    newimg[newimg > 1] = 1\n",
    "    newimg = (newimg * 255).astype('uint8')\n",
    "    return newimg"
   ]
  },
  {
   "cell_type": "code",
   "execution_count": null,
   "metadata": {},
   "outputs": [],
   "source": [
    "scans = load_scan(f'../data/train/{idx}/')\n",
    "scan_array = set_lungwin(get_pixels_hu(scans))"
   ]
  },
  {
   "cell_type": "code",
   "execution_count": null,
   "metadata": {
    "scrolled": false
   },
   "outputs": [],
   "source": [
    "import matplotlib.animation as animation\n",
    "\n",
    "fig = plt.figure()\n",
    "\n",
    "ims = []\n",
    "for image in scan_array:\n",
    "    im = plt.imshow(image, animated=True, cmap=\"Greys\")\n",
    "    plt.axis(\"off\")\n",
    "    ims.append([im])\n",
    "\n",
    "ani = animation.ArtistAnimation(fig, ims, interval=100, blit=False,\n",
    "                                repeat_delay=1000)"
   ]
  },
  {
   "cell_type": "code",
   "execution_count": null,
   "metadata": {},
   "outputs": [],
   "source": [
    "HTML(ani.to_jshtml())"
   ]
  },
  {
   "cell_type": "code",
   "execution_count": null,
   "metadata": {},
   "outputs": [],
   "source": [
    "idx = np.random.choice(train.Patient.unique())\n",
    "train[train.Patient == idx]"
   ]
  },
  {
   "cell_type": "code",
   "execution_count": null,
   "metadata": {},
   "outputs": [],
   "source": [
    "fig = plt.figure()\n",
    "plt.plot(train.loc[train.Patient==idx, 'FVC'])"
   ]
  },
  {
   "cell_type": "code",
   "execution_count": null,
   "metadata": {},
   "outputs": [],
   "source": [
    "scans = load_scan(f'../data/train/{idx}/')\n",
    "scan_array = set_lungwin(get_pixels_hu(scans))\n",
    "\n",
    "fig = plt.figure()\n",
    "\n",
    "ims = []\n",
    "for image in scan_array:\n",
    "    im = plt.imshow(image, animated=True, cmap=\"Greys\")\n",
    "    plt.axis(\"off\")\n",
    "    ims.append([im])\n",
    "\n",
    "ani = animation.ArtistAnimation(fig, ims, interval=100, blit=False,\n",
    "                                repeat_delay=1000)\n",
    "HTML(ani.to_jshtml())"
   ]
  },
  {
   "cell_type": "code",
   "execution_count": 3,
   "metadata": {},
   "outputs": [],
   "source": [
    "train, sub = read_df(cfg)\n",
    "arimax = sm.tsa.ARIMA(endog=train['FVC'], exog=train[['Age','Male', 'Female', 'Ex-smoker', 'Never smoked', 'Currently smokes']], order=(1,0,1))"
   ]
  },
  {
   "cell_type": "code",
   "execution_count": 4,
   "metadata": {},
   "outputs": [
    {
     "name": "stderr",
     "output_type": "stream",
     "text": [
      "/home/giorgio/Desktop/Kaggle/kaggleEnv/lib/python3.6/site-packages/statsmodels/base/model.py:548: HessianInversionWarning: Inverting hessian failed, no bse or cov_params available\n",
      "  'available', HessianInversionWarning)\n"
     ]
    },
    {
     "data": {
      "text/plain": [
       "<statsmodels.tsa.arima_model.ARMAResultsWrapper at 0x7ff1584584e0>"
      ]
     },
     "execution_count": 4,
     "metadata": {},
     "output_type": "execute_result"
    }
   ],
   "source": [
    "arimax.fit()"
   ]
  },
  {
   "cell_type": "code",
   "execution_count": 6,
   "metadata": {},
   "outputs": [
    {
     "ename": "TypeError",
     "evalue": "geterrors() missing 1 required positional argument: 'params'",
     "output_type": "error",
     "traceback": [
      "\u001b[0;31m---------------------------------------------------------------------------\u001b[0m",
      "\u001b[0;31mTypeError\u001b[0m                                 Traceback (most recent call last)",
      "\u001b[0;32m<ipython-input-6-1f40b65c47e1>\u001b[0m in \u001b[0;36m<module>\u001b[0;34m\u001b[0m\n\u001b[0;32m----> 1\u001b[0;31m \u001b[0marimax\u001b[0m\u001b[0;34m.\u001b[0m\u001b[0mgeterrors\u001b[0m\u001b[0;34m(\u001b[0m\u001b[0;34m)\u001b[0m\u001b[0;34m\u001b[0m\u001b[0;34m\u001b[0m\u001b[0m\n\u001b[0m",
      "\u001b[0;31mTypeError\u001b[0m: geterrors() missing 1 required positional argument: 'params'"
     ]
    }
   ],
   "source": [
    "arimax.geterrors()"
   ]
  },
  {
   "cell_type": "code",
   "execution_count": null,
   "metadata": {},
   "outputs": [],
   "source": []
  }
 ],
 "metadata": {
  "kernelspec": {
   "display_name": "kaggleEnv",
   "language": "python",
   "name": "kaggleenv"
  },
  "language_info": {
   "codemirror_mode": {
    "name": "ipython",
    "version": 3
   },
   "file_extension": ".py",
   "mimetype": "text/x-python",
   "name": "python",
   "nbconvert_exporter": "python",
   "pygments_lexer": "ipython3",
   "version": "3.6.9"
  }
 },
 "nbformat": 4,
 "nbformat_minor": 4
}
